{
  "cells": [
    {
      "cell_type": "markdown",
      "id": "9deff13f",
      "metadata": {
        "id": "9deff13f"
      },
      "source": [
        "# OOD detection using sst2 as in distribution and imdb as out of distribution"
      ]
    },
    {
      "cell_type": "code",
      "execution_count": 1,
      "id": "lZqdKslv9zjp",
      "metadata": {
        "id": "lZqdKslv9zjp",
        "colab": {
          "base_uri": "https://localhost:8080/"
        },
        "outputId": "05e7c996-aff0-4971-9079-69768e00ea6b"
      },
      "outputs": [
        {
          "output_type": "stream",
          "name": "stdout",
          "text": [
            "Looking in indexes: https://pypi.org/simple, https://us-python.pkg.dev/colab-wheels/public/simple/\n",
            "Collecting transformers\n",
            "  Downloading transformers-4.26.1-py3-none-any.whl (6.3 MB)\n",
            "\u001b[2K     \u001b[90m━━━━━━━━━━━━━━━━━━━━━━━━━━━━━━━━━━━━━━━━\u001b[0m \u001b[32m6.3/6.3 MB\u001b[0m \u001b[31m42.2 MB/s\u001b[0m eta \u001b[36m0:00:00\u001b[0m\n",
            "\u001b[?25hRequirement already satisfied: tqdm>=4.27 in /usr/local/lib/python3.8/dist-packages (from transformers) (4.64.1)\n",
            "Requirement already satisfied: packaging>=20.0 in /usr/local/lib/python3.8/dist-packages (from transformers) (23.0)\n",
            "Collecting huggingface-hub<1.0,>=0.11.0\n",
            "  Downloading huggingface_hub-0.12.1-py3-none-any.whl (190 kB)\n",
            "\u001b[2K     \u001b[90m━━━━━━━━━━━━━━━━━━━━━━━━━━━━━━━━━━━━━━\u001b[0m \u001b[32m190.3/190.3 KB\u001b[0m \u001b[31m15.6 MB/s\u001b[0m eta \u001b[36m0:00:00\u001b[0m\n",
            "\u001b[?25hRequirement already satisfied: pyyaml>=5.1 in /usr/local/lib/python3.8/dist-packages (from transformers) (6.0)\n",
            "Requirement already satisfied: filelock in /usr/local/lib/python3.8/dist-packages (from transformers) (3.9.0)\n",
            "Requirement already satisfied: numpy>=1.17 in /usr/local/lib/python3.8/dist-packages (from transformers) (1.22.4)\n",
            "Requirement already satisfied: regex!=2019.12.17 in /usr/local/lib/python3.8/dist-packages (from transformers) (2022.6.2)\n",
            "Collecting tokenizers!=0.11.3,<0.14,>=0.11.1\n",
            "  Downloading tokenizers-0.13.2-cp38-cp38-manylinux_2_17_x86_64.manylinux2014_x86_64.whl (7.6 MB)\n",
            "\u001b[2K     \u001b[90m━━━━━━━━━━━━━━━━━━━━━━━━━━━━━━━━━━━━━━━━\u001b[0m \u001b[32m7.6/7.6 MB\u001b[0m \u001b[31m33.4 MB/s\u001b[0m eta \u001b[36m0:00:00\u001b[0m\n",
            "\u001b[?25hRequirement already satisfied: requests in /usr/local/lib/python3.8/dist-packages (from transformers) (2.25.1)\n",
            "Requirement already satisfied: typing-extensions>=3.7.4.3 in /usr/local/lib/python3.8/dist-packages (from huggingface-hub<1.0,>=0.11.0->transformers) (4.5.0)\n",
            "Requirement already satisfied: idna<3,>=2.5 in /usr/local/lib/python3.8/dist-packages (from requests->transformers) (2.10)\n",
            "Requirement already satisfied: chardet<5,>=3.0.2 in /usr/local/lib/python3.8/dist-packages (from requests->transformers) (4.0.0)\n",
            "Requirement already satisfied: certifi>=2017.4.17 in /usr/local/lib/python3.8/dist-packages (from requests->transformers) (2022.12.7)\n",
            "Requirement already satisfied: urllib3<1.27,>=1.21.1 in /usr/local/lib/python3.8/dist-packages (from requests->transformers) (1.26.14)\n",
            "Installing collected packages: tokenizers, huggingface-hub, transformers\n",
            "Successfully installed huggingface-hub-0.12.1 tokenizers-0.13.2 transformers-4.26.1\n",
            "Looking in indexes: https://pypi.org/simple, https://us-python.pkg.dev/colab-wheels/public/simple/\n",
            "Collecting datasets\n",
            "  Downloading datasets-2.10.1-py3-none-any.whl (469 kB)\n",
            "\u001b[2K     \u001b[90m━━━━━━━━━━━━━━━━━━━━━━━━━━━━━━━━━━━━━━\u001b[0m \u001b[32m469.0/469.0 KB\u001b[0m \u001b[31m11.4 MB/s\u001b[0m eta \u001b[36m0:00:00\u001b[0m\n",
            "\u001b[?25hRequirement already satisfied: aiohttp in /usr/local/lib/python3.8/dist-packages (from datasets) (3.8.4)\n",
            "Collecting responses<0.19\n",
            "  Downloading responses-0.18.0-py3-none-any.whl (38 kB)\n",
            "Requirement already satisfied: huggingface-hub<1.0.0,>=0.2.0 in /usr/local/lib/python3.8/dist-packages (from datasets) (0.12.1)\n",
            "Requirement already satisfied: pyyaml>=5.1 in /usr/local/lib/python3.8/dist-packages (from datasets) (6.0)\n",
            "Requirement already satisfied: fsspec[http]>=2021.11.1 in /usr/local/lib/python3.8/dist-packages (from datasets) (2023.1.0)\n",
            "Requirement already satisfied: pyarrow>=6.0.0 in /usr/local/lib/python3.8/dist-packages (from datasets) (9.0.0)\n",
            "Requirement already satisfied: packaging in /usr/local/lib/python3.8/dist-packages (from datasets) (23.0)\n",
            "Requirement already satisfied: pandas in /usr/local/lib/python3.8/dist-packages (from datasets) (1.3.5)\n",
            "Collecting multiprocess\n",
            "  Downloading multiprocess-0.70.14-py38-none-any.whl (132 kB)\n",
            "\u001b[2K     \u001b[90m━━━━━━━━━━━━━━━━━━━━━━━━━━━━━━━━━━━━━━━\u001b[0m \u001b[32m132.0/132.0 KB\u001b[0m \u001b[31m9.4 MB/s\u001b[0m eta \u001b[36m0:00:00\u001b[0m\n",
            "\u001b[?25hRequirement already satisfied: tqdm>=4.62.1 in /usr/local/lib/python3.8/dist-packages (from datasets) (4.64.1)\n",
            "Collecting dill<0.3.7,>=0.3.0\n",
            "  Downloading dill-0.3.6-py3-none-any.whl (110 kB)\n",
            "\u001b[2K     \u001b[90m━━━━━━━━━━━━━━━━━━━━━━━━━━━━━━━━━━━━━━━\u001b[0m \u001b[32m110.5/110.5 KB\u001b[0m \u001b[31m8.7 MB/s\u001b[0m eta \u001b[36m0:00:00\u001b[0m\n",
            "\u001b[?25hRequirement already satisfied: requests>=2.19.0 in /usr/local/lib/python3.8/dist-packages (from datasets) (2.25.1)\n",
            "Requirement already satisfied: numpy>=1.17 in /usr/local/lib/python3.8/dist-packages (from datasets) (1.22.4)\n",
            "Collecting xxhash\n",
            "  Downloading xxhash-3.2.0-cp38-cp38-manylinux_2_17_x86_64.manylinux2014_x86_64.whl (213 kB)\n",
            "\u001b[2K     \u001b[90m━━━━━━━━━━━━━━━━━━━━━━━━━━━━━━━━━━━━━━\u001b[0m \u001b[32m213.0/213.0 KB\u001b[0m \u001b[31m14.2 MB/s\u001b[0m eta \u001b[36m0:00:00\u001b[0m\n",
            "\u001b[?25hRequirement already satisfied: multidict<7.0,>=4.5 in /usr/local/lib/python3.8/dist-packages (from aiohttp->datasets) (6.0.4)\n",
            "Requirement already satisfied: charset-normalizer<4.0,>=2.0 in /usr/local/lib/python3.8/dist-packages (from aiohttp->datasets) (3.0.1)\n",
            "Requirement already satisfied: attrs>=17.3.0 in /usr/local/lib/python3.8/dist-packages (from aiohttp->datasets) (22.2.0)\n",
            "Requirement already satisfied: async-timeout<5.0,>=4.0.0a3 in /usr/local/lib/python3.8/dist-packages (from aiohttp->datasets) (4.0.2)\n",
            "Requirement already satisfied: yarl<2.0,>=1.0 in /usr/local/lib/python3.8/dist-packages (from aiohttp->datasets) (1.8.2)\n",
            "Requirement already satisfied: frozenlist>=1.1.1 in /usr/local/lib/python3.8/dist-packages (from aiohttp->datasets) (1.3.3)\n",
            "Requirement already satisfied: aiosignal>=1.1.2 in /usr/local/lib/python3.8/dist-packages (from aiohttp->datasets) (1.3.1)\n",
            "Requirement already satisfied: filelock in /usr/local/lib/python3.8/dist-packages (from huggingface-hub<1.0.0,>=0.2.0->datasets) (3.9.0)\n",
            "Requirement already satisfied: typing-extensions>=3.7.4.3 in /usr/local/lib/python3.8/dist-packages (from huggingface-hub<1.0.0,>=0.2.0->datasets) (4.5.0)\n",
            "Requirement already satisfied: certifi>=2017.4.17 in /usr/local/lib/python3.8/dist-packages (from requests>=2.19.0->datasets) (2022.12.7)\n",
            "Requirement already satisfied: idna<3,>=2.5 in /usr/local/lib/python3.8/dist-packages (from requests>=2.19.0->datasets) (2.10)\n",
            "Requirement already satisfied: chardet<5,>=3.0.2 in /usr/local/lib/python3.8/dist-packages (from requests>=2.19.0->datasets) (4.0.0)\n",
            "Requirement already satisfied: urllib3<1.27,>=1.21.1 in /usr/local/lib/python3.8/dist-packages (from requests>=2.19.0->datasets) (1.26.14)\n",
            "Requirement already satisfied: pytz>=2017.3 in /usr/local/lib/python3.8/dist-packages (from pandas->datasets) (2022.7.1)\n",
            "Requirement already satisfied: python-dateutil>=2.7.3 in /usr/local/lib/python3.8/dist-packages (from pandas->datasets) (2.8.2)\n",
            "Requirement already satisfied: six>=1.5 in /usr/local/lib/python3.8/dist-packages (from python-dateutil>=2.7.3->pandas->datasets) (1.15.0)\n",
            "Installing collected packages: xxhash, dill, responses, multiprocess, datasets\n",
            "Successfully installed datasets-2.10.1 dill-0.3.6 multiprocess-0.70.14 responses-0.18.0 xxhash-3.2.0\n",
            "Looking in indexes: https://pypi.org/simple, https://us-python.pkg.dev/colab-wheels/public/simple/\n",
            "Requirement already satisfied: torch in /usr/local/lib/python3.8/dist-packages (1.13.1+cu116)\n",
            "Requirement already satisfied: typing-extensions in /usr/local/lib/python3.8/dist-packages (from torch) (4.5.0)\n",
            "Looking in indexes: https://pypi.org/simple, https://us-python.pkg.dev/colab-wheels/public/simple/\n",
            "Collecting pytorch_transformers\n",
            "  Downloading pytorch_transformers-1.2.0-py3-none-any.whl (176 kB)\n",
            "\u001b[2K     \u001b[90m━━━━━━━━━━━━━━━━━━━━━━━━━━━━━━━━━━━━━━━\u001b[0m \u001b[32m176.4/176.4 KB\u001b[0m \u001b[31m7.6 MB/s\u001b[0m eta \u001b[36m0:00:00\u001b[0m\n",
            "\u001b[?25hCollecting boto3\n",
            "  Downloading boto3-1.26.85-py3-none-any.whl (134 kB)\n",
            "\u001b[2K     \u001b[90m━━━━━━━━━━━━━━━━━━━━━━━━━━━━━━━━━━━━━━\u001b[0m \u001b[32m134.7/134.7 KB\u001b[0m \u001b[31m18.8 MB/s\u001b[0m eta \u001b[36m0:00:00\u001b[0m\n",
            "\u001b[?25hRequirement already satisfied: requests in /usr/local/lib/python3.8/dist-packages (from pytorch_transformers) (2.25.1)\n",
            "Requirement already satisfied: tqdm in /usr/local/lib/python3.8/dist-packages (from pytorch_transformers) (4.64.1)\n",
            "Collecting sacremoses\n",
            "  Downloading sacremoses-0.0.53.tar.gz (880 kB)\n",
            "\u001b[2K     \u001b[90m━━━━━━━━━━━━━━━━━━━━━━━━━━━━━━━━━━━━━━\u001b[0m \u001b[32m880.6/880.6 KB\u001b[0m \u001b[31m38.6 MB/s\u001b[0m eta \u001b[36m0:00:00\u001b[0m\n",
            "\u001b[?25h  Preparing metadata (setup.py) ... \u001b[?25l\u001b[?25hdone\n",
            "Requirement already satisfied: regex in /usr/local/lib/python3.8/dist-packages (from pytorch_transformers) (2022.6.2)\n",
            "Collecting sentencepiece\n",
            "  Downloading sentencepiece-0.1.97-cp38-cp38-manylinux_2_17_x86_64.manylinux2014_x86_64.whl (1.3 MB)\n",
            "\u001b[2K     \u001b[90m━━━━━━━━━━━━━━━━━━━━━━━━━━━━━━━━━━━━━━━━\u001b[0m \u001b[32m1.3/1.3 MB\u001b[0m \u001b[31m44.5 MB/s\u001b[0m eta \u001b[36m0:00:00\u001b[0m\n",
            "\u001b[?25hRequirement already satisfied: torch>=1.0.0 in /usr/local/lib/python3.8/dist-packages (from pytorch_transformers) (1.13.1+cu116)\n",
            "Requirement already satisfied: numpy in /usr/local/lib/python3.8/dist-packages (from pytorch_transformers) (1.22.4)\n",
            "Requirement already satisfied: typing-extensions in /usr/local/lib/python3.8/dist-packages (from torch>=1.0.0->pytorch_transformers) (4.5.0)\n",
            "Collecting s3transfer<0.7.0,>=0.6.0\n",
            "  Downloading s3transfer-0.6.0-py3-none-any.whl (79 kB)\n",
            "\u001b[2K     \u001b[90m━━━━━━━━━━━━━━━━━━━━━━━━━━━━━━━━━━━━━━━━\u001b[0m \u001b[32m79.6/79.6 KB\u001b[0m \u001b[31m10.5 MB/s\u001b[0m eta \u001b[36m0:00:00\u001b[0m\n",
            "\u001b[?25hCollecting jmespath<2.0.0,>=0.7.1\n",
            "  Downloading jmespath-1.0.1-py3-none-any.whl (20 kB)\n",
            "Collecting botocore<1.30.0,>=1.29.85\n",
            "  Downloading botocore-1.29.85-py3-none-any.whl (10.5 MB)\n",
            "\u001b[2K     \u001b[90m━━━━━━━━━━━━━━━━━━━━━━━━━━━━━━━━━━━━━━━━\u001b[0m \u001b[32m10.5/10.5 MB\u001b[0m \u001b[31m73.9 MB/s\u001b[0m eta \u001b[36m0:00:00\u001b[0m\n",
            "\u001b[?25hRequirement already satisfied: urllib3<1.27,>=1.21.1 in /usr/local/lib/python3.8/dist-packages (from requests->pytorch_transformers) (1.26.14)\n",
            "Requirement already satisfied: idna<3,>=2.5 in /usr/local/lib/python3.8/dist-packages (from requests->pytorch_transformers) (2.10)\n",
            "Requirement already satisfied: certifi>=2017.4.17 in /usr/local/lib/python3.8/dist-packages (from requests->pytorch_transformers) (2022.12.7)\n",
            "Requirement already satisfied: chardet<5,>=3.0.2 in /usr/local/lib/python3.8/dist-packages (from requests->pytorch_transformers) (4.0.0)\n",
            "Requirement already satisfied: six in /usr/local/lib/python3.8/dist-packages (from sacremoses->pytorch_transformers) (1.15.0)\n",
            "Requirement already satisfied: click in /usr/local/lib/python3.8/dist-packages (from sacremoses->pytorch_transformers) (8.1.3)\n",
            "Requirement already satisfied: joblib in /usr/local/lib/python3.8/dist-packages (from sacremoses->pytorch_transformers) (1.2.0)\n",
            "Requirement already satisfied: python-dateutil<3.0.0,>=2.1 in /usr/local/lib/python3.8/dist-packages (from botocore<1.30.0,>=1.29.85->boto3->pytorch_transformers) (2.8.2)\n",
            "Building wheels for collected packages: sacremoses\n",
            "  Building wheel for sacremoses (setup.py) ... \u001b[?25l\u001b[?25hdone\n",
            "  Created wheel for sacremoses: filename=sacremoses-0.0.53-py3-none-any.whl size=895260 sha256=852864303968e01befb1c158dea5de6182a7519ab8501889db134e044793f556\n",
            "  Stored in directory: /root/.cache/pip/wheels/82/ab/9b/c15899bf659ba74f623ac776e861cf2eb8608c1825ddec66a4\n",
            "Successfully built sacremoses\n",
            "Installing collected packages: sentencepiece, sacremoses, jmespath, botocore, s3transfer, boto3, pytorch_transformers\n",
            "Successfully installed boto3-1.26.85 botocore-1.29.85 jmespath-1.0.1 pytorch_transformers-1.2.0 s3transfer-0.6.0 sacremoses-0.0.53 sentencepiece-0.1.97\n"
          ]
        }
      ],
      "source": [
        "!pip install transformers\n",
        "!pip install datasets\n",
        "!pip install torch\n",
        "!pip install pytorch_transformers"
      ]
    },
    {
      "cell_type": "code",
      "execution_count": 2,
      "id": "e0b6f5f2",
      "metadata": {
        "id": "e0b6f5f2"
      },
      "outputs": [],
      "source": [
        "import torch\n",
        "import torch.nn as nn\n",
        "from torch.utils.data import TensorDataset, DataLoader, RandomSampler, SequentialSampler\n",
        "from transformers import RobertaForSequenceClassification, RobertaTokenizer, AdamW\n",
        "from datasets import load_dataset, concatenate_datasets, Dataset\n",
        "import re\n",
        "import string\n",
        "from sklearn.metrics import roc_auc_score, average_precision_score\n",
        "import numpy as np\n",
        "import pandas as pd\n",
        "import matplotlib.pyplot as plt\n",
        "from torch import cuda\n",
        "from sklearn.model_selection import train_test_split\n",
        "from pytorch_transformers import AdamW, WarmupLinearSchedule"
      ]
    },
    {
      "cell_type": "code",
      "execution_count": 3,
      "id": "4f721987",
      "metadata": {
        "id": "4f721987"
      },
      "outputs": [],
      "source": [
        "# Configuration de l'appareil pour l'utilisation du GPU\n",
        "torch.cuda.init()\n",
        "device = 'cuda' if cuda.is_available() else 'cpu'"
      ]
    },
    {
      "cell_type": "markdown",
      "id": "df596900",
      "metadata": {
        "id": "df596900"
      },
      "source": [
        "## Chargement des datasets"
      ]
    },
    {
      "cell_type": "code",
      "execution_count": null,
      "id": "f336f6c5",
      "metadata": {
        "id": "f336f6c5"
      },
      "outputs": [],
      "source": [
        "sst2 = load_dataset('glue','sst2')\n",
        "inds_set = concatenate_datasets([sst2['train'],sst2['validation'],sst2['test']])\n",
        "ood_set = load_dataset('imdb', split='test')"
      ]
    },
    {
      "cell_type": "code",
      "execution_count": null,
      "id": "8e19383f",
      "metadata": {
        "id": "8e19383f"
      },
      "outputs": [],
      "source": [
        "inds_df= pd.DataFrame(inds_set)\n",
        "\n",
        "# création des sets de training, validation et test\n",
        "train, rest = train_test_split(inds_df, train_size=0.7, random_state=42, stratify=inds_df['label'])\n",
        "validation, test  = train_test_split(rest, train_size=1/3, random_state=42, stratify=rest['label'])\n",
        "\n",
        "train_set = Dataset.from_pandas(train).remove_columns(['__index_level_0__'])\n",
        "validation_set = Dataset.from_pandas(validation).remove_columns(['__index_level_0__'])\n",
        "test_set = Dataset.from_pandas(test).remove_columns(['__index_level_0__'])"
      ]
    },
    {
      "cell_type": "markdown",
      "id": "80ad656d",
      "metadata": {
        "id": "80ad656d"
      },
      "source": [
        "### prétraitement du texte"
      ]
    },
    {
      "cell_type": "code",
      "execution_count": null,
      "id": "53280c2c",
      "metadata": {
        "id": "53280c2c"
      },
      "outputs": [],
      "source": [
        "def preprocess_text(text):\n",
        "    text = re.sub(r'http\\S+', '', text) # Supprimer les URLs\n",
        "    text = re.sub(r'<.*?>', '', text) # Supprimer les balises HTML\n",
        "    text = re.sub(r'[^\\w\\s]', '', text) # Supprimer la ponctuation\n",
        "    text = re.sub(r'#\\w+', '', text) # Supprimer les hashtags\n",
        "    text = re.sub(r'@\\w+', '', text) # Supprimer les mentions\n",
        "    text = re.sub(r'[0-9]+', '', text) # Supprimer les chiffres\n",
        "    text = text.translate(str.maketrans('', '', string.punctuation))\n",
        "    return text.strip()\n",
        "\n",
        "# Prétraiter les données de sst2\n",
        "train_set= train_set.map(lambda example: {'label': example['label'], 'sentence': preprocess_text(example['sentence'])})\n",
        "validation_set= validation_set.map(lambda example: {'label': example['label'], 'sentence': preprocess_text(example['sentence'])})\n",
        "test_set= test_set.map(lambda example: {'label': example['label'], 'sentence': preprocess_text(example['sentence'])})\n",
        "\n",
        "# Prétraiter les données de imdb\n",
        "ood_set = ood_set.map(lambda example: {'label': example['label'], 'text': preprocess_text(example['text'])})\n",
        "\n"
      ]
    },
    {
      "cell_type": "markdown",
      "id": "0a1373a8",
      "metadata": {
        "id": "0a1373a8"
      },
      "source": [
        "### tokenizer et tenseurs"
      ]
    },
    {
      "cell_type": "code",
      "execution_count": null,
      "id": "6e5e1bee",
      "metadata": {
        "id": "6e5e1bee"
      },
      "outputs": [],
      "source": [
        "tokenizer = RobertaTokenizer.from_pretrained('roberta-base')\n",
        "\n",
        "\n",
        "# Tokenize sst2\n",
        "train_set = train_set.map(lambda x: tokenizer(x['sentence'], padding='max_length', truncation=True, return_tensors='pt'), batched=True)\n",
        "validation_set = validation_set.map(lambda x: tokenizer(x['sentence'], padding='max_length', truncation=True, return_tensors='pt'), batched=True)\n",
        "test_set = test_set.map(lambda x: tokenizer(x['sentence'], padding='max_length', truncation=True, return_tensors='pt'), batched=True)\n",
        "\n",
        "\n",
        "# Tokenize imdb\n",
        "ood_set = ood_set.map(lambda x: tokenizer(x['text'], padding='max_length', truncation=True, return_tensors='pt'), batched=True)"
      ]
    },
    {
      "cell_type": "code",
      "execution_count": null,
      "id": "32a5365f",
      "metadata": {
        "id": "32a5365f"
      },
      "outputs": [],
      "source": [
        "# Conversion en tenseurs PyTorch \n",
        "train_inputs = torch.tensor(train_set['input_ids']).to(torch.int64)\n",
        "val_inputs = torch.tensor(validation_set['input_ids']).to(torch.int64)\n",
        "test_inputs = torch.tensor(test_set['input_ids']).to(torch.int64)\n",
        "ood_inputs = torch.tensor(ood_set['input_ids']).to(torch.int64)\n",
        "\n",
        "train_labels = torch.tensor(train_set['label']).to(torch.int64)\n",
        "val_labels = torch.tensor(validation_set['label']).to(torch.int64)\n",
        "test_labels = torch.tensor(test_set['label']).to(torch.int64)\n",
        "ood_labels = torch.tensor(ood_set['label']).to(torch.int64)\n",
        "\n",
        "\n",
        "train_masks = torch.tensor(train_set['attention_mask']).to(torch.int64)\n",
        "val_masks = torch.tensor(validation_set['attention_mask']).to(torch.int64)\n",
        "test_masks = torch.tensor(test_set['attention_mask']).to(torch.int64)\n",
        "ood_masks = torch.tensor(ood_set['attention_mask']).to(torch.int64)\n",
        "\n"
      ]
    },
    {
      "cell_type": "markdown",
      "id": "36c0e3cc",
      "metadata": {
        "id": "36c0e3cc"
      },
      "source": [
        "### création des dataloaders"
      ]
    },
    {
      "cell_type": "code",
      "execution_count": null,
      "id": "6bdb915c",
      "metadata": {
        "id": "6bdb915c"
      },
      "outputs": [],
      "source": [
        "# Create PyTorch DataLoader objects\n",
        "batch_size = 16\n",
        "\n",
        "train_data = TensorDataset(train_inputs, train_masks, train_labels)\n",
        "train_loader = DataLoader(train_data, batch_size=batch_size, shuffle=True)\n",
        "\n",
        "validation_data = TensorDataset(val_inputs, val_masks, val_labels)\n",
        "validation_loader = DataLoader(validation_data, batch_size=batch_size, shuffle=False)\n",
        "\n",
        "test_data = TensorDataset(test_inputs, test_masks, test_labels)\n",
        "test_loader = DataLoader(test_data, batch_size=batch_size, shuffle=False)\n",
        "\n",
        "ood_data = TensorDataset(ood_inputs, ood_masks, ood_labels)\n",
        "ood_loader = DataLoader(ood_data, batch_size=batch_size, shuffle=False)"
      ]
    },
    {
      "cell_type": "markdown",
      "id": "c242ec9b",
      "metadata": {
        "id": "c242ec9b"
      },
      "source": [
        "## Entraînement de Roberta pour la detection des ood"
      ]
    },
    {
      "cell_type": "code",
      "execution_count": null,
      "id": "2VfM491Aghge",
      "metadata": {
        "id": "2VfM491Aghge"
      },
      "outputs": [],
      "source": [
        "# Charger le modèle pré-entraîné Roberta et ajouter une couche de classification en sortie\n",
        "model = RobertaForSequenceClassification.from_pretrained('roberta-base', num_labels=2)\n",
        "model.cuda()"
      ]
    },
    {
      "cell_type": "code",
      "execution_count": null,
      "id": "bd747a9a",
      "metadata": {
        "id": "bd747a9a"
      },
      "outputs": [],
      "source": [
        "\n",
        "num_epochs = 4\n",
        "WEIGHT_DECAY = 0.01\n",
        "learning_rate = 2e-5 \n",
        "WARMUP_STEPS =int(0.2*len(train_loader))\n",
        "\n",
        "no_decay = ['bias', 'LayerNorm.weight']\n",
        "optimizer_grouped_parameters = [\n",
        "    {'params': [p for n, p in model.named_parameters()\n",
        "                if not any(nd in n for nd in no_decay)],\n",
        "     'weight_decay': WEIGHT_DECAY},\n",
        "    {'params': [p for n, p in model.named_parameters()\n",
        "                if any(nd in n for nd in no_decay)],\n",
        "     'weight_decay': 0.0}\n",
        "]\n",
        "optimizer = AdamW(optimizer_grouped_parameters, lr=learning_rate, eps=1e-8)\n",
        "scheduler = WarmupLinearSchedule(optimizer, warmup_steps=WARMUP_STEPS,\n",
        "                                 t_total=len(train_loader)*num_epochs)"
      ]
    },
    {
      "cell_type": "code",
      "execution_count": null,
      "id": "rUKk-rEk9jTh",
      "metadata": {
        "id": "rUKk-rEk9jTh"
      },
      "outputs": [],
      "source": [
        "# Entraîner le modèle\n",
        "for epoch in range(num_epochs):\n",
        "    model.train()\n",
        "    train_loss = 0\n",
        "    for batch in train_loader:\n",
        "        batch = tuple(t.to(device) for t in batch)\n",
        "        train_inputs, train_masks, train_labels = batch\n",
        "\n",
        "        optimizer.zero_grad()\n",
        "        outputs = model(train_inputs, attention_mask = train_masks, \n",
        "                        labels = train_labels)\n",
        "    \n",
        "        loss = outputs[0]\n",
        "        train_loss += loss.item()\n",
        "        loss.backward()\n",
        "\n",
        "        scheduler.step()\n",
        "        optimizer.step()\n",
        "   \n",
        "    # Évaluer le modèle sur les données de validation\n",
        "    model.eval()\n",
        "    val_loss = 0\n",
        "    with torch.no_grad():\n",
        "        for batch in validation_loader:\n",
        "            batch = tuple(t.to(device) for t in batch)\n",
        "            val_inputs, val_masks, val_labels = batch\n",
        "            \n",
        "            outputs = model(val_inputs,attention_mask=val_masks, \n",
        "                            labels=val_labels)\n",
        "            loss = outputs[0]\n",
        "            val_loss += loss.item()\n",
        "    print(f'Epoch {epoch+1}, Train Loss: {train_loss/len(train_inputs)}, Val Loss: {val_loss/len(val_inputs)}')\n",
        "    \n"
      ]
    },
    {
      "cell_type": "markdown",
      "id": "OG65pI0_PFtz",
      "metadata": {
        "id": "OG65pI0_PFtz"
      },
      "source": [
        "#### Evaluation du modèl sur les données de test"
      ]
    },
    {
      "cell_type": "code",
      "execution_count": null,
      "id": "-JBRQBCeNKEE",
      "metadata": {
        "id": "-JBRQBCeNKEE"
      },
      "outputs": [],
      "source": [
        "# Évaluer le modèle sur les données de test\n",
        "model.eval()\n",
        "predictions = []\n",
        "with torch.no_grad():\n",
        "    for batch in test_loader:\n",
        "        batch = tuple(t.to(device) for t in batch)\n",
        "        test_inputs, test_masks, test_labels = batch\n",
        "        outputs = model(test_inputs, attention_mask = test_masks)\n",
        "        logits = outputs[0]\n",
        "        predictions.extend(torch.argmax(logits, dim=1).tolist())\n",
        "\n",
        "# Afficher l'accuracy sur les données de test\n",
        "correct_predictions = 0\n",
        "for i, prediction in enumerate(predictions):\n",
        "    if prediction == test_labels[i]:\n",
        "        correct_predictions += 1\n",
        "accuracy = correct_predictions / len(predictions)\n",
        "print(f'Accuracy on test set: {accuracy}')\n"
      ]
    },
    {
      "cell_type": "code",
      "execution_count": null,
      "id": "cd3cd0e9",
      "metadata": {
        "id": "cd3cd0e9"
      },
      "outputs": [],
      "source": [
        "# Détecteurs de OOD\n",
        "#def max_softmax(scores):\n",
        "   # return np.max(scores)\n",
        "\n",
        "#def energy_score(scores):\n",
        "    #return -np.sum(np.log(scores + 1e-6))\n",
        "\n",
        "#def mahalanobis_score(scores):\n",
        "    #cov = np.cov(scores, rowvar=False)\n",
        "    #inv_cov = np.linalg.inv(cov + np.eye(cov.shape[0]) * 1e-6)\n",
        "    #return np.dot(np.dot(scores - np.mean(scores, axis=0), inv_cov), (scores - np.mean(scores, axis=0)).T)"
      ]
    }
  ],
  "metadata": {
    "accelerator": "GPU",
    "colab": {
      "provenance": []
    },
    "gpuClass": "standard",
    "kernelspec": {
      "display_name": "Python 3 (ipykernel)",
      "language": "python",
      "name": "python3"
    },
    "language_info": {
      "codemirror_mode": {
        "name": "ipython",
        "version": 3
      },
      "file_extension": ".py",
      "mimetype": "text/x-python",
      "name": "python",
      "nbconvert_exporter": "python",
      "pygments_lexer": "ipython3",
      "version": "3.9.13"
    }
  },
  "nbformat": 4,
  "nbformat_minor": 5
}